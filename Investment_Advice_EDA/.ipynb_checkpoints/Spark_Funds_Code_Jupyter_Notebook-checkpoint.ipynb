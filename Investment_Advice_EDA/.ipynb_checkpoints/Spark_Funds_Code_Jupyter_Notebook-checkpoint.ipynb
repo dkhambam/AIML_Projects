{
 "cells": [
  {
   "cell_type": "markdown",
   "metadata": {},
   "source": [
    "# Investments Assignment SparkFunds LLP"
   ]
  },
  {
   "cell_type": "code",
   "execution_count": 5,
   "metadata": {},
   "outputs": [
    {
     "ename": "FileNotFoundError",
     "evalue": "[Errno 2] File b'companies.txt' does not exist: b'companies.txt'",
     "output_type": "error",
     "traceback": [
      "\u001b[1;31m---------------------------------------------------------------------------\u001b[0m",
      "\u001b[1;31mFileNotFoundError\u001b[0m                         Traceback (most recent call last)",
      "\u001b[1;32m<ipython-input-5-142c4017cb11>\u001b[0m in \u001b[0;36m<module>\u001b[1;34m\u001b[0m\n\u001b[0;32m      4\u001b[0m \u001b[1;32mimport\u001b[0m \u001b[0mpandas\u001b[0m \u001b[1;32mas\u001b[0m \u001b[0mpd\u001b[0m\u001b[1;33m\u001b[0m\u001b[1;33m\u001b[0m\u001b[0m\n\u001b[0;32m      5\u001b[0m \u001b[1;33m\u001b[0m\u001b[0m\n\u001b[1;32m----> 6\u001b[1;33m \u001b[0mcompanies_df\u001b[0m\u001b[1;33m=\u001b[0m\u001b[0mpd\u001b[0m\u001b[1;33m.\u001b[0m\u001b[0mread_csv\u001b[0m\u001b[1;33m(\u001b[0m\u001b[1;34m'companies.txt'\u001b[0m\u001b[1;33m,\u001b[0m\u001b[0msep\u001b[0m\u001b[1;33m=\u001b[0m \u001b[1;34m\"\\t\"\u001b[0m\u001b[1;33m,\u001b[0m\u001b[0mencoding\u001b[0m\u001b[1;33m=\u001b[0m\u001b[1;34m'palmos'\u001b[0m\u001b[1;33m)\u001b[0m\u001b[1;33m\u001b[0m\u001b[1;33m\u001b[0m\u001b[0m\n\u001b[0m\u001b[0;32m      7\u001b[0m \u001b[0mcompanies_df\u001b[0m\u001b[1;33m.\u001b[0m\u001b[0mhead\u001b[0m\u001b[1;33m(\u001b[0m\u001b[1;33m)\u001b[0m\u001b[1;33m\u001b[0m\u001b[1;33m\u001b[0m\u001b[0m\n\u001b[0;32m      8\u001b[0m \u001b[1;31m#select distinct Unique ID  count from Companies dataframe using 'permalink'\u001b[0m\u001b[1;33m\u001b[0m\u001b[1;33m\u001b[0m\u001b[1;33m\u001b[0m\u001b[0m\n",
      "\u001b[1;32m~\\Anaconda3\\lib\\site-packages\\pandas\\io\\parsers.py\u001b[0m in \u001b[0;36mparser_f\u001b[1;34m(filepath_or_buffer, sep, delimiter, header, names, index_col, usecols, squeeze, prefix, mangle_dupe_cols, dtype, engine, converters, true_values, false_values, skipinitialspace, skiprows, skipfooter, nrows, na_values, keep_default_na, na_filter, verbose, skip_blank_lines, parse_dates, infer_datetime_format, keep_date_col, date_parser, dayfirst, cache_dates, iterator, chunksize, compression, thousands, decimal, lineterminator, quotechar, quoting, doublequote, escapechar, comment, encoding, dialect, error_bad_lines, warn_bad_lines, delim_whitespace, low_memory, memory_map, float_precision)\u001b[0m\n\u001b[0;32m    683\u001b[0m         )\n\u001b[0;32m    684\u001b[0m \u001b[1;33m\u001b[0m\u001b[0m\n\u001b[1;32m--> 685\u001b[1;33m         \u001b[1;32mreturn\u001b[0m \u001b[0m_read\u001b[0m\u001b[1;33m(\u001b[0m\u001b[0mfilepath_or_buffer\u001b[0m\u001b[1;33m,\u001b[0m \u001b[0mkwds\u001b[0m\u001b[1;33m)\u001b[0m\u001b[1;33m\u001b[0m\u001b[1;33m\u001b[0m\u001b[0m\n\u001b[0m\u001b[0;32m    686\u001b[0m \u001b[1;33m\u001b[0m\u001b[0m\n\u001b[0;32m    687\u001b[0m     \u001b[0mparser_f\u001b[0m\u001b[1;33m.\u001b[0m\u001b[0m__name__\u001b[0m \u001b[1;33m=\u001b[0m \u001b[0mname\u001b[0m\u001b[1;33m\u001b[0m\u001b[1;33m\u001b[0m\u001b[0m\n",
      "\u001b[1;32m~\\Anaconda3\\lib\\site-packages\\pandas\\io\\parsers.py\u001b[0m in \u001b[0;36m_read\u001b[1;34m(filepath_or_buffer, kwds)\u001b[0m\n\u001b[0;32m    455\u001b[0m \u001b[1;33m\u001b[0m\u001b[0m\n\u001b[0;32m    456\u001b[0m     \u001b[1;31m# Create the parser.\u001b[0m\u001b[1;33m\u001b[0m\u001b[1;33m\u001b[0m\u001b[1;33m\u001b[0m\u001b[0m\n\u001b[1;32m--> 457\u001b[1;33m     \u001b[0mparser\u001b[0m \u001b[1;33m=\u001b[0m \u001b[0mTextFileReader\u001b[0m\u001b[1;33m(\u001b[0m\u001b[0mfp_or_buf\u001b[0m\u001b[1;33m,\u001b[0m \u001b[1;33m**\u001b[0m\u001b[0mkwds\u001b[0m\u001b[1;33m)\u001b[0m\u001b[1;33m\u001b[0m\u001b[1;33m\u001b[0m\u001b[0m\n\u001b[0m\u001b[0;32m    458\u001b[0m \u001b[1;33m\u001b[0m\u001b[0m\n\u001b[0;32m    459\u001b[0m     \u001b[1;32mif\u001b[0m \u001b[0mchunksize\u001b[0m \u001b[1;32mor\u001b[0m \u001b[0miterator\u001b[0m\u001b[1;33m:\u001b[0m\u001b[1;33m\u001b[0m\u001b[1;33m\u001b[0m\u001b[0m\n",
      "\u001b[1;32m~\\Anaconda3\\lib\\site-packages\\pandas\\io\\parsers.py\u001b[0m in \u001b[0;36m__init__\u001b[1;34m(self, f, engine, **kwds)\u001b[0m\n\u001b[0;32m    893\u001b[0m             \u001b[0mself\u001b[0m\u001b[1;33m.\u001b[0m\u001b[0moptions\u001b[0m\u001b[1;33m[\u001b[0m\u001b[1;34m\"has_index_names\"\u001b[0m\u001b[1;33m]\u001b[0m \u001b[1;33m=\u001b[0m \u001b[0mkwds\u001b[0m\u001b[1;33m[\u001b[0m\u001b[1;34m\"has_index_names\"\u001b[0m\u001b[1;33m]\u001b[0m\u001b[1;33m\u001b[0m\u001b[1;33m\u001b[0m\u001b[0m\n\u001b[0;32m    894\u001b[0m \u001b[1;33m\u001b[0m\u001b[0m\n\u001b[1;32m--> 895\u001b[1;33m         \u001b[0mself\u001b[0m\u001b[1;33m.\u001b[0m\u001b[0m_make_engine\u001b[0m\u001b[1;33m(\u001b[0m\u001b[0mself\u001b[0m\u001b[1;33m.\u001b[0m\u001b[0mengine\u001b[0m\u001b[1;33m)\u001b[0m\u001b[1;33m\u001b[0m\u001b[1;33m\u001b[0m\u001b[0m\n\u001b[0m\u001b[0;32m    896\u001b[0m \u001b[1;33m\u001b[0m\u001b[0m\n\u001b[0;32m    897\u001b[0m     \u001b[1;32mdef\u001b[0m \u001b[0mclose\u001b[0m\u001b[1;33m(\u001b[0m\u001b[0mself\u001b[0m\u001b[1;33m)\u001b[0m\u001b[1;33m:\u001b[0m\u001b[1;33m\u001b[0m\u001b[1;33m\u001b[0m\u001b[0m\n",
      "\u001b[1;32m~\\Anaconda3\\lib\\site-packages\\pandas\\io\\parsers.py\u001b[0m in \u001b[0;36m_make_engine\u001b[1;34m(self, engine)\u001b[0m\n\u001b[0;32m   1133\u001b[0m     \u001b[1;32mdef\u001b[0m \u001b[0m_make_engine\u001b[0m\u001b[1;33m(\u001b[0m\u001b[0mself\u001b[0m\u001b[1;33m,\u001b[0m \u001b[0mengine\u001b[0m\u001b[1;33m=\u001b[0m\u001b[1;34m\"c\"\u001b[0m\u001b[1;33m)\u001b[0m\u001b[1;33m:\u001b[0m\u001b[1;33m\u001b[0m\u001b[1;33m\u001b[0m\u001b[0m\n\u001b[0;32m   1134\u001b[0m         \u001b[1;32mif\u001b[0m \u001b[0mengine\u001b[0m \u001b[1;33m==\u001b[0m \u001b[1;34m\"c\"\u001b[0m\u001b[1;33m:\u001b[0m\u001b[1;33m\u001b[0m\u001b[1;33m\u001b[0m\u001b[0m\n\u001b[1;32m-> 1135\u001b[1;33m             \u001b[0mself\u001b[0m\u001b[1;33m.\u001b[0m\u001b[0m_engine\u001b[0m \u001b[1;33m=\u001b[0m \u001b[0mCParserWrapper\u001b[0m\u001b[1;33m(\u001b[0m\u001b[0mself\u001b[0m\u001b[1;33m.\u001b[0m\u001b[0mf\u001b[0m\u001b[1;33m,\u001b[0m \u001b[1;33m**\u001b[0m\u001b[0mself\u001b[0m\u001b[1;33m.\u001b[0m\u001b[0moptions\u001b[0m\u001b[1;33m)\u001b[0m\u001b[1;33m\u001b[0m\u001b[1;33m\u001b[0m\u001b[0m\n\u001b[0m\u001b[0;32m   1136\u001b[0m         \u001b[1;32melse\u001b[0m\u001b[1;33m:\u001b[0m\u001b[1;33m\u001b[0m\u001b[1;33m\u001b[0m\u001b[0m\n\u001b[0;32m   1137\u001b[0m             \u001b[1;32mif\u001b[0m \u001b[0mengine\u001b[0m \u001b[1;33m==\u001b[0m \u001b[1;34m\"python\"\u001b[0m\u001b[1;33m:\u001b[0m\u001b[1;33m\u001b[0m\u001b[1;33m\u001b[0m\u001b[0m\n",
      "\u001b[1;32m~\\Anaconda3\\lib\\site-packages\\pandas\\io\\parsers.py\u001b[0m in \u001b[0;36m__init__\u001b[1;34m(self, src, **kwds)\u001b[0m\n\u001b[0;32m   1915\u001b[0m         \u001b[0mkwds\u001b[0m\u001b[1;33m[\u001b[0m\u001b[1;34m\"usecols\"\u001b[0m\u001b[1;33m]\u001b[0m \u001b[1;33m=\u001b[0m \u001b[0mself\u001b[0m\u001b[1;33m.\u001b[0m\u001b[0musecols\u001b[0m\u001b[1;33m\u001b[0m\u001b[1;33m\u001b[0m\u001b[0m\n\u001b[0;32m   1916\u001b[0m \u001b[1;33m\u001b[0m\u001b[0m\n\u001b[1;32m-> 1917\u001b[1;33m         \u001b[0mself\u001b[0m\u001b[1;33m.\u001b[0m\u001b[0m_reader\u001b[0m \u001b[1;33m=\u001b[0m \u001b[0mparsers\u001b[0m\u001b[1;33m.\u001b[0m\u001b[0mTextReader\u001b[0m\u001b[1;33m(\u001b[0m\u001b[0msrc\u001b[0m\u001b[1;33m,\u001b[0m \u001b[1;33m**\u001b[0m\u001b[0mkwds\u001b[0m\u001b[1;33m)\u001b[0m\u001b[1;33m\u001b[0m\u001b[1;33m\u001b[0m\u001b[0m\n\u001b[0m\u001b[0;32m   1918\u001b[0m         \u001b[0mself\u001b[0m\u001b[1;33m.\u001b[0m\u001b[0munnamed_cols\u001b[0m \u001b[1;33m=\u001b[0m \u001b[0mself\u001b[0m\u001b[1;33m.\u001b[0m\u001b[0m_reader\u001b[0m\u001b[1;33m.\u001b[0m\u001b[0munnamed_cols\u001b[0m\u001b[1;33m\u001b[0m\u001b[1;33m\u001b[0m\u001b[0m\n\u001b[0;32m   1919\u001b[0m \u001b[1;33m\u001b[0m\u001b[0m\n",
      "\u001b[1;32mpandas\\_libs\\parsers.pyx\u001b[0m in \u001b[0;36mpandas._libs.parsers.TextReader.__cinit__\u001b[1;34m()\u001b[0m\n",
      "\u001b[1;32mpandas\\_libs\\parsers.pyx\u001b[0m in \u001b[0;36mpandas._libs.parsers.TextReader._setup_parser_source\u001b[1;34m()\u001b[0m\n",
      "\u001b[1;31mFileNotFoundError\u001b[0m: [Errno 2] File b'companies.txt' does not exist: b'companies.txt'"
     ]
    }
   ],
   "source": [
    "#load the Data \n",
    "\n",
    "import numpy as np\n",
    "import pandas as pd\n",
    "\n",
    "companies_df=pd.read_csv('companies.txt',sep= \"\\t\",encoding='palmos')\n",
    "companies_df.head()\n",
    "#select distinct Unique ID  count from Companies dataframe using 'permalink'\n",
    "companies_df['permalink'].nunique()\n",
    "\n",
    "#Convert the permalink field to upper for merging\n",
    "companies_df['permalink'] = companies_df['permalink'].str.upper()\n",
    "companies_df.shape\n",
    "companies_df.head()\n"
   ]
  },
  {
   "cell_type": "code",
   "execution_count": null,
   "metadata": {},
   "outputs": [],
   "source": [
    "rounds2_df =pd.read_csv('rounds2.csv',encoding='ISO-8859-1')\n",
    "rounds2_df.head()\n",
    "#select distinct Unique ID  count from Companies dataframe using 'company_permalink'\n",
    "rounds2_df['company_permalink'].nunique()\n",
    "#Convert the company_permalink field to upper for merging\n",
    "\n",
    "rounds2_df['company_permalink']= rounds2_df['company_permalink'].str.upper()\n",
    "rounds2_df.shape\n",
    "rounds2_df.head()\n"
   ]
  },
  {
   "cell_type": "code",
   "execution_count": null,
   "metadata": {},
   "outputs": [],
   "source": [
    "#merge companies dataframe to rounds2 dataframe\n",
    "master_frame = pd.merge(rounds2_df,companies_df,left_on='company_permalink',right_on='permalink',how='left')\n",
    "master_frame.shape\n",
    "master_frame.head()"
   ]
  },
  {
   "cell_type": "markdown",
   "metadata": {},
   "source": [
    "### Investment Type Analysis to find of which funding_round_type to Invest in"
   ]
  },
  {
   "cell_type": "code",
   "execution_count": null,
   "metadata": {},
   "outputs": [],
   "source": [
    "# Specifying the format options for floats\n",
    "pd.options.display.float_format = '{:.2f}'.format\n",
    "\n",
    "#Filter out  only the interested funding types and Calculating the mean from which we are \n",
    "#interested in Angel,seed,venture,private_equity\n",
    "master_frame=master_frame[master_frame['funding_round_type'].isin(['seed','angel','venture','private_equity'])]\n",
    "master_frame.groupby('funding_round_type').raised_amount_usd.mean()"
   ]
  },
  {
   "cell_type": "code",
   "execution_count": null,
   "metadata": {},
   "outputs": [],
   "source": [
    "#Finding the count of records with missing values\n",
    "master_frame.isnull().sum()"
   ]
  },
  {
   "cell_type": "markdown",
   "metadata": {},
   "source": [
    "### Country Analysis to find out which countries to invest in\n"
   ]
  },
  {
   "cell_type": "code",
   "execution_count": null,
   "metadata": {},
   "outputs": [],
   "source": [
    "# Filter out and select only items with funding_round_type as 'venture' and we are only interested in Venture\n",
    "master_frame.head()\n",
    "master_frame_venture=master_frame[master_frame.funding_round_type=='venture']\n",
    "master_frame_venture.head()\n",
    "\n",
    "#Groupby country_code and calculate the sum and sort and select the top9\n",
    "#top9=master_frame_venture.groupby('country_code')['raised_amount_usd'].sum().sort_values(ascending=False).head(9)\n",
    "#top9.head(9)\n",
    "\n",
    "top9= master_frame_venture.groupby('country_code')['raised_amount_usd'].agg(sum_raised_amt_usd='sum').sort_values(by='sum_raised_amt_usd',ascending=False)\n",
    "#Country3_df=pd.merge(Country3_df,Country3_df_cnt,how='left',on='main_sector')\n",
    "top9.head(10)\n",
    "\n",
    "\n",
    "#From above we know that top9 countries as 'USA','CHN','GBR','IND','CAN','FRA','ISR','DEU','JPN'\n",
    "\n",
    "# Compariing the above with wiki link we find that 'CHN' is not English speaking so top 3 are 'USA','GBR','IND'"
   ]
  },
  {
   "cell_type": "markdown",
   "metadata": {},
   "source": [
    "### Sector Analysis"
   ]
  },
  {
   "cell_type": "code",
   "execution_count": null,
   "metadata": {},
   "outputs": [],
   "source": [
    "mapping_df=pd.read_csv('mapping.csv')\n",
    "mapping_df.head()\n",
    "mapping_df = mapping_df.melt(id_vars=\"category_list\",var_name=\"main_sector\")\n",
    "mapping_df.head()\n",
    "# Removing the rows with 0 values as we are interested in only rows with value=1\n",
    "mapping_df = mapping_df.loc[~(mapping_df[\"value\"]==0) ]\n",
    "mapping_df=mapping_df.drop(columns=\"value\")\n",
    "mapping_df.nunique().head(10)  #Out of 9,1 is Blank\n",
    "mapping_df.head(10)"
   ]
  },
  {
   "cell_type": "code",
   "execution_count": null,
   "metadata": {},
   "outputs": [],
   "source": [
    "#Split the category_list delimited by '|' and select only the category before first pipe\n",
    "master_frame.head()\n",
    "master_frame['category_list']=master_frame.category_list.str.rsplit('|',-1).str[0]\n",
    "master_frame.head()\n",
    "master_frame_mapping=pd.merge(master_frame,mapping_df,how='left',on='category_list')\n",
    "master_frame_mapping.head(10)\n",
    "\n",
    "#master_frame_mapping.describe()\n",
    "#master_frame_mapping.info()"
   ]
  },
  {
   "cell_type": "markdown",
   "metadata": {},
   "source": [
    "### Create dataframe for Country1 for funding type 'venture' and Investment in range of 5-15 M USD"
   ]
  },
  {
   "cell_type": "code",
   "execution_count": null,
   "metadata": {},
   "outputs": [],
   "source": [
    "#Create dataframe for Country1 for funding type 'venture' and Investment in range of 5-15 M USD\n",
    "Country1_df = master_frame_mapping.loc[(master_frame_mapping.funding_round_type=='venture') &\n",
    "                                       (master_frame_mapping.country_code=='USA') &\n",
    "                        (master_frame_mapping.raised_amount_usd > 5000000) & (master_frame_mapping.raised_amount_usd  < 15000000) ]\n",
    "Country1_df.head(10)\n",
    "\n",
    "\n",
    "Country1_df.loc[:,'main_sctr_grp_sum'] = master_frame_mapping.groupby('main_sector')['raised_amount_usd'].transform(np.sum)\n",
    "#remove rows with main_sector as NaN\n",
    "Country1_df = Country1_df[~np.isnan(Country1_df['main_sctr_grp_sum'])]\n",
    "Country1_df_cnt= Country1_df.groupby('main_sector')['main_sctr_grp_sum'].agg(Count='count')\n",
    "Country1_df=pd.merge(Country1_df,Country1_df_cnt,how='left',on='main_sector')\n",
    "Country1_df.head(10)\n",
    "\n"
   ]
  },
  {
   "cell_type": "code",
   "execution_count": null,
   "metadata": {},
   "outputs": [],
   "source": [
    "#Total number of investments (count)  --9295\n",
    "Country1_df.raised_amount_usd.count()\n",
    "#Total amount of investment (USD)\n",
    "Country1_df.raised_amount_usd.sum()\n",
    "\n",
    "#Top  5 Sector names  (no. of investment-wise)  --Country Field added as it is helpful in plotting.\n",
    "#Country1_df_cnt.sort_values(by='Count',ascending=False).head()\n",
    "Country1_df_cnt.loc[:,'Country']='USA'\n",
    "Country1_df_cnt=Country1_df_cnt.sort_values(by='Count',ascending=False).head(3)\n",
    "Country1_df_cnt.head()\n",
    "Country1_df.raised_amount_usd.sum()"
   ]
  },
  {
   "cell_type": "code",
   "execution_count": 6,
   "metadata": {},
   "outputs": [
    {
     "ename": "NameError",
     "evalue": "name 'Country1_df' is not defined",
     "output_type": "error",
     "traceback": [
      "\u001b[1;31m---------------------------------------------------------------------------\u001b[0m",
      "\u001b[1;31mNameError\u001b[0m                                 Traceback (most recent call last)",
      "\u001b[1;32m<ipython-input-6-f72cc784a774>\u001b[0m in \u001b[0;36m<module>\u001b[1;34m\u001b[0m\n\u001b[0;32m      1\u001b[0m \u001b[1;31m#For  top sector count-wise from above, company that received the highest investment\u001b[0m\u001b[1;33m\u001b[0m\u001b[1;33m\u001b[0m\u001b[1;33m\u001b[0m\u001b[0m\n\u001b[1;32m----> 2\u001b[1;33m \u001b[0mCountry1_df\u001b[0m\u001b[1;33m.\u001b[0m\u001b[0mloc\u001b[0m\u001b[1;33m[\u001b[0m\u001b[1;33m(\u001b[0m\u001b[0mCountry1_df\u001b[0m\u001b[1;33m.\u001b[0m\u001b[0mmain_sector\u001b[0m\u001b[1;33m==\u001b[0m\u001b[1;34m'Others'\u001b[0m\u001b[1;33m)\u001b[0m\u001b[1;33m]\u001b[0m\u001b[1;33m.\u001b[0m\u001b[0msort_values\u001b[0m\u001b[1;33m(\u001b[0m\u001b[0mby\u001b[0m\u001b[1;33m=\u001b[0m\u001b[1;34m'raised_amount_usd'\u001b[0m\u001b[1;33m,\u001b[0m\u001b[0mascending\u001b[0m\u001b[1;33m=\u001b[0m\u001b[1;32mFalse\u001b[0m\u001b[1;33m)\u001b[0m\u001b[1;33m.\u001b[0m\u001b[0mhead\u001b[0m\u001b[1;33m(\u001b[0m\u001b[1;33m)\u001b[0m\u001b[1;33m\u001b[0m\u001b[1;33m\u001b[0m\u001b[0m\n\u001b[0m\u001b[0;32m      3\u001b[0m \u001b[1;33m\u001b[0m\u001b[0m\n\u001b[0;32m      4\u001b[0m \u001b[1;31m#For point  second best sector count-wise from above, company that received the highest investment\u001b[0m\u001b[1;33m\u001b[0m\u001b[1;33m\u001b[0m\u001b[1;33m\u001b[0m\u001b[0m\n\u001b[0;32m      5\u001b[0m \u001b[0mCountry1_df\u001b[0m\u001b[1;33m.\u001b[0m\u001b[0mloc\u001b[0m\u001b[1;33m[\u001b[0m\u001b[1;33m(\u001b[0m\u001b[0mCountry1_df\u001b[0m\u001b[1;33m.\u001b[0m\u001b[0mmain_sector\u001b[0m\u001b[1;33m==\u001b[0m\u001b[1;34m'Cleantech / Semiconductors'\u001b[0m\u001b[1;33m)\u001b[0m\u001b[1;33m]\u001b[0m\u001b[1;33m.\u001b[0m\u001b[0msort_values\u001b[0m\u001b[1;33m(\u001b[0m\u001b[0mby\u001b[0m\u001b[1;33m=\u001b[0m\u001b[1;34m'raised_amount_usd'\u001b[0m\u001b[1;33m,\u001b[0m\u001b[0mascending\u001b[0m\u001b[1;33m=\u001b[0m\u001b[1;32mFalse\u001b[0m\u001b[1;33m)\u001b[0m\u001b[1;33m.\u001b[0m\u001b[0mhead\u001b[0m\u001b[1;33m(\u001b[0m\u001b[1;33m)\u001b[0m\u001b[1;33m\u001b[0m\u001b[1;33m\u001b[0m\u001b[0m\n",
      "\u001b[1;31mNameError\u001b[0m: name 'Country1_df' is not defined"
     ]
    }
   ],
   "source": [
    "\n",
    "#For  top sector count-wise from above, company that received the highest investment\n",
    "Country1_df.loc[(Country1_df.main_sector=='Others')].sort_values(by='raised_amount_usd',ascending=False).head()\n",
    "\n",
    "#For point  second best sector count-wise from above, company that received the highest investment\n",
    "Country1_df.loc[(Country1_df.main_sector=='Cleantech / Semiconductors')].sort_values(by='raised_amount_usd',ascending=False).head()"
   ]
  },
  {
   "cell_type": "markdown",
   "metadata": {},
   "source": [
    "### Create dataframe for Country2 for funding type 'venture' and Investment in range of 5-15 M USD"
   ]
  },
  {
   "cell_type": "code",
   "execution_count": null,
   "metadata": {},
   "outputs": [],
   "source": [
    "#Create dataframe for Country2 for funding type 'venture' and Investment in range of 5-15 M USD\n",
    "Country2_df = master_frame_mapping.loc[(master_frame_mapping.funding_round_type=='venture') &\n",
    "                                       (master_frame_mapping.country_code=='GBR') &\n",
    "                        (master_frame_mapping.raised_amount_usd > 5000000) & (master_frame_mapping.raised_amount_usd  < 15000000) ]\n",
    "Country2_df.head(10)\n",
    "\n",
    "Country2_df.loc[:,'main_sctr_grp_sum'] = master_frame_mapping.groupby('main_sector')['raised_amount_usd'].transform(np.sum)\n",
    "#remove rows with main_sector as NaN\n",
    "Country2_df = Country2_df[~np.isnan(Country2_df['main_sctr_grp_sum'])]\n",
    "Country2_df_cnt= Country2_df.groupby('main_sector')['main_sctr_grp_sum'].agg(Count='count')\n",
    "Country2_df=pd.merge(Country2_df,Country2_df_cnt,how='left',on='main_sector')\n",
    "Country2_df.head(10)"
   ]
  },
  {
   "cell_type": "code",
   "execution_count": null,
   "metadata": {},
   "outputs": [],
   "source": [
    "#Total number of investments (count)  --9295\n",
    "Country2_df.raised_amount_usd.count()\n",
    "\n",
    "#Total amount of investment (USD)\n",
    "Country2_df.raised_amount_usd.sum()\n",
    "\n",
    "#Top  5 Sector names (no. of investment-wise) --Country Field added as it is helpful in plotting.\n",
    "#Country2_df_cnt.sort_values(by='Count',ascending=False).head()\n",
    "Country2_df_cnt.loc[:,'Country']='GBR'\n",
    "Country2_df_cnt=Country2_df_cnt.sort_values(by='Count',ascending=False).head(3)\n",
    "Country2_df_cnt.head()"
   ]
  },
  {
   "cell_type": "code",
   "execution_count": null,
   "metadata": {},
   "outputs": [],
   "source": [
    "\n",
    "#For  top sector count-wise from above, company that received the highest investment\n",
    "Country2_df.loc[(Country2_df.main_sector=='Others')].sort_values(by='raised_amount_usd',ascending=False).head()\n",
    "\n",
    "#For point  second best sector count-wise from above, company that received the highest investment\n",
    "Country2_df.loc[(Country2_df.main_sector=='Cleantech / Semiconductors')].sort_values(by='raised_amount_usd',ascending=False).head()"
   ]
  },
  {
   "cell_type": "markdown",
   "metadata": {},
   "source": [
    "### Create dataframe for Country3 for funding type 'venture' and Investment in range of 5-15 M USD"
   ]
  },
  {
   "cell_type": "code",
   "execution_count": null,
   "metadata": {},
   "outputs": [],
   "source": [
    "#Create dataframe for Country3 for funding type 'venture' and Investment in range of 5-15 M USD\n",
    "Country3_df = master_frame_mapping.loc[(master_frame_mapping.funding_round_type=='venture') &\n",
    "                                       (master_frame_mapping.country_code=='IND') &\n",
    "                        (master_frame_mapping.raised_amount_usd > 5000000) & (master_frame_mapping.raised_amount_usd  < 15000000) ]\n",
    "Country3_df.head(10)\n",
    "\n",
    "Country3_df.loc[:,'main_sctr_grp_sum'] = master_frame_mapping.groupby('main_sector')['raised_amount_usd'].transform(np.sum)\n",
    "#remove rows with main_sector as NaN\n",
    "Country3_df = Country3_df[~np.isnan(Country3_df['main_sctr_grp_sum'])]\n",
    "Country3_df_cnt= Country3_df.groupby('main_sector')['main_sctr_grp_sum'].agg(Count='count')\n",
    "Country3_df=pd.merge(Country3_df,Country3_df_cnt,how='left',on='main_sector')\n",
    "Country3_df.head(10)\n",
    "\n"
   ]
  },
  {
   "cell_type": "code",
   "execution_count": null,
   "metadata": {},
   "outputs": [],
   "source": [
    "#Total number of investments (count)  \n",
    "Country3_df.count()\n",
    "\n",
    "#Total amount of investment (USD)\n",
    "Country3_df.raised_amount_usd.sum()\n",
    "\n",
    "#Top  5 Sector names (no. of investment-wise)  --Country Field added as it is helpful in plotting.\n",
    "\n",
    "Country3_df_cnt.loc[:,'Country']='IND'\n",
    "Country3_df_cnt=Country3_df_cnt.sort_values(by='Count',ascending=False).head(3)\n",
    "Country3_df_cnt.head()"
   ]
  },
  {
   "cell_type": "code",
   "execution_count": null,
   "metadata": {},
   "outputs": [],
   "source": [
    "\n",
    "#For  top sector count-wise from above, company that received the highest investment\n",
    "Country3_df.loc[(Country3_df.main_sector=='Others')].sort_values(by='raised_amount_usd',ascending=False).head()\n",
    "\n",
    "#For point  second best sector count-wise from above, company that received the highest investment\n",
    "Country3_df.loc[(Country3_df.main_sector=='Cleantech / Semiconductors')].sort_values(by='raised_amount_usd',ascending=False).head()\n"
   ]
  },
  {
   "cell_type": "markdown",
   "metadata": {},
   "source": [
    "###  Checkpoint 6 : Plots"
   ]
  },
  {
   "cell_type": "code",
   "execution_count": null,
   "metadata": {},
   "outputs": [],
   "source": [
    "import matplotlib.pyplot as plt\n",
    "import seaborn as sns\n",
    "\n",
    "plt.figure(figsize=(10,5))\n",
    "\n",
    "# bar plot  Funding Type Vs Raised_Amount\n",
    "f=sns.barplot(x='funding_round_type', y='raised_amount_usd', data=master_frame)\n",
    "f.set(xlabel='Funding Type',ylabel='Raised Amount USD(scale of 10 Million)')\n",
    "plt.title(\"Funding Type Analysis\")\n",
    "plt.show()"
   ]
  },
  {
   "cell_type": "code",
   "execution_count": null,
   "metadata": {},
   "outputs": [],
   "source": [
    "plt.figure(figsize=(10,5))\n",
    "\n",
    "# bar plot \n",
    "top9.head(9)\n",
    "top9['country_code'] = top9.index\n",
    "g=sns.barplot(x='country_code', y='sum_raised_amt_usd', data=top9.head(9))\n",
    "g.set_yscale('log')\n",
    "g.set(xlabel='Country Code',ylabel='Sum Raised Amount(Log Scale)')\n",
    "plt.title(\"Country Analysis\")\n",
    "plt.show()\n",
    "top9.head()"
   ]
  },
  {
   "cell_type": "code",
   "execution_count": null,
   "metadata": {},
   "outputs": [],
   "source": [
    "#Merging the 3 Country wise count,sector dataframes for Plotting\n",
    "mrg_ctry1_ctry2_ctry3=pd.concat([Country1_df_cnt, Country2_df_cnt,Country3_df_cnt,], axis = 0)\n",
    "mrg_ctry1_ctry2_ctry3['main_sector'] = mrg_ctry1_ctry2_ctry3.index\n",
    "mrg_ctry1_ctry2_ctry3.head(9)"
   ]
  },
  {
   "cell_type": "code",
   "execution_count": null,
   "metadata": {},
   "outputs": [],
   "source": [
    "# set figure size for larger figure\n",
    "plt.figure(num=None, figsize=(10, 5), dpi=80, facecolor='w', edgecolor='k')\n",
    "\n",
    "h=sns.barplot(x='Country', y='Count',hue='main_sector', data=mrg_ctry1_ctry2_ctry3)\n",
    "h.set_yscale('log')\n",
    "h.set(xlabel='Country Code',ylabel='Count of Number of Investments')\n",
    "plt.title(\"Investments in Top 3 Sectors in Top 3 Countires\")\n",
    "plt.show()"
   ]
  }
 ],
 "metadata": {
  "kernelspec": {
   "display_name": "Python 3",
   "language": "python",
   "name": "python3"
  },
  "language_info": {
   "codemirror_mode": {
    "name": "ipython",
    "version": 3
   },
   "file_extension": ".py",
   "mimetype": "text/x-python",
   "name": "python",
   "nbconvert_exporter": "python",
   "pygments_lexer": "ipython3",
   "version": "3.7.4"
  }
 },
 "nbformat": 4,
 "nbformat_minor": 2
}
