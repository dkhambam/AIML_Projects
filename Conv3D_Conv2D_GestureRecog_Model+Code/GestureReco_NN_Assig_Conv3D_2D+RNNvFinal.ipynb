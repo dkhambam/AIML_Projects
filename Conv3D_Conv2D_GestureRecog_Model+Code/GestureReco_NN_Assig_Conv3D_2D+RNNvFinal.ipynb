{
 "cells": [
  {
   "cell_type": "markdown",
   "metadata": {},
   "source": [
    "# Gesture Recognition\n",
    "In this group project, we are going to build a 3D Conv model and a 2D Conv RNN with GRU Model that will be able to predict the 5 gestures correctly."
   ]
  },
  {
   "cell_type": "code",
   "execution_count": 66,
   "metadata": {},
   "outputs": [],
   "source": [
    "import numpy as np\n",
    "import os\n",
    "from scipy.misc import imread, imresize\n",
    "import datetime\n",
    "import os\n",
    "import imageio\n",
    "import cv2\n",
    "from skimage.transform import resize"
   ]
  },
  {
   "cell_type": "markdown",
   "metadata": {},
   "source": [
    "We set the random seed so that the results don't vary drastically."
   ]
  },
  {
   "cell_type": "code",
   "execution_count": 67,
   "metadata": {},
   "outputs": [],
   "source": [
    "np.random.seed(30)\n",
    "import random as rn\n",
    "rn.seed(30)\n",
    "from keras import backend as K\n",
    "import tensorflow as tf\n",
    "tf.set_random_seed(30)"
   ]
  },
  {
   "cell_type": "markdown",
   "metadata": {},
   "source": [
    "In this block, we will read the folder names for training and validation. We will also set the `batch_size` here. We will set the batch size in such a way that we are able to use the GPU in full capacity. We may keep increasing the batch size until the machine throws an error."
   ]
  },
  {
   "cell_type": "code",
   "execution_count": 68,
   "metadata": {},
   "outputs": [],
   "source": [
    "train_doc = np.random.permutation(open('./Project_data/train.csv').readlines())\n",
    "val_doc = np.random.permutation(open('./Project_data/val.csv').readlines())\n",
    "batch_size = 16"
   ]
  },
  {
   "cell_type": "markdown",
   "metadata": {},
   "source": [
    "## Generator\n",
    "This is common to both the Models. In the generator, we are preprocessing the images as we have images of 2 different dimensions as well as create a batch of video frames. We have to experiment with `img_idx`, `y`,`z` and normalization such that we get high accuracy."
   ]
  },
  {
   "cell_type": "code",
   "execution_count": 69,
   "metadata": {},
   "outputs": [],
   "source": [
    "def generator(source_path, folder_list, batch_size):\n",
    "    print( 'Source path = ', source_path, '; batch size =', batch_size)\n",
    "    #create a list of image numbers you want to use for a particular video\n",
    "    #[folder[0] for folder in folder_list]\n",
    "    #img_idx = [f for idx,f in  zip(range(len(files)), os.listdir('YOUR PICS DIRECTORY HERE')) if not idx%3]\n",
    "    img_idx = [7,9,11,13,15,17,19,21,23,25]\n",
    "    #num_batches = len(folder_list)//batch_size   # calculate the number of batches\n",
    "    #print(len(folder_list))\n",
    "    \n",
    "    while True:\n",
    "        t = np.random.permutation(folder_list)\n",
    "        num_batches = len(folder_list)//batch_size   # calculate the number of batches\n",
    "        #print('Number of Batches:',num_batches)\n",
    "        for batch in range(num_batches): # we iterate over the number of batches\n",
    "            # for now assuming size as 360*360 <dinesh,suman>\n",
    "            batch_data = np.zeros((batch_size,len(img_idx),120,120,3)) # x is the number of images you use for each video, (y,z) is the final size of the input images and 3 is the number of channels RGB\n",
    "            batch_labels = np.zeros((batch_size,5)) # batch_labels is the one hot representation of the output\n",
    "            for folder in range(batch_size): # iterate over the batch_size\n",
    "                imgs = os.listdir(source_path+'/'+ t[folder + (batch*batch_size)].split(';')[0]) # read all the images in the folder\n",
    "                for idx,item in enumerate(img_idx): #  Iterate iver the frames/images of a folder to read them in\n",
    "                    image = cv2.imread(source_path+'/'+ t[folder + (batch*batch_size)].strip().split(';')[0]+'/'+imgs[item]).astype(np.float32)\n",
    "                    #print(imgs[item])\n",
    "                    #crop the images and resize them. Note that the images are of 2 different shape\n",
    "                    image=cv2.resize(image, (120, 120))\n",
    "                    (b, g, r)=cv2.split(image)\n",
    "                    image=cv2.merge([r,g,b])\n",
    "                    #and the conv3D will throw error if the inputs in a batch have different shapes\n",
    "                    \n",
    "                    batch_data[folder,idx,:,:,0] = (r - np.min(r)) / (np.max(r) - np.min(r)) #normalise and feed in the image\n",
    "                    batch_data[folder,idx,:,:,1] = (g - np.min(g)) / (np.max(g) - np.min(g)) #normalise and feed in the image\n",
    "                    batch_data[folder,idx,:,:,2] = (b - np.min(b)) / (np.max(b) - np.min(b)) #normalise and feed in the image\n",
    "                    \n",
    "                    \n",
    "                batch_labels[folder, int(t[folder + (batch*batch_size)].strip().split(';')[2])] = 1\n",
    "            yield batch_data, batch_labels #you yield the batch_data and the batch_labels, remember what does yield do\n",
    "\n",
    "        \n",
    "        # write the code for the remaining data points which are left after full batches\n",
    "        if len(folder_list)%batch_size  !=0:\n",
    "            # for now assuming size as 360*360 <dinesh,suman>\n",
    "            batch_data = np.zeros((batch_size,len(img_idx),120,120,3)) # x is the number of images you use for each video, (y,z) is the final size of the input images and 3 is the number of channels RGB\n",
    "            batch_labels = np.zeros((batch_size,5)) # batch_labels is the one hot representation of the output\n",
    "            for folder in range(batch_size): # iterate over the batch_size\n",
    "                imgs = os.listdir(source_path+'/'+ t[folder + (batch*batch_size)].split(';')[0]) # read all the images in the folder\n",
    "                for idx,item in enumerate(img_idx): #  Iterate iver the frames/images of a folder to read them in\n",
    "                    image = cv2.imread(source_path+'/'+ t[folder + (batch*batch_size)].strip().split(';')[0]+'/'+imgs[item]).astype(np.float32)\n",
    "                    \n",
    "                    \n",
    "                    #crop the images and resize them. Note that the images are of 2 different shape\n",
    "\n",
    "                    image=cv2.resize(image, (120, 120))\n",
    "                    (b, g, r)=cv2.split(image)\n",
    "                    image=cv2.merge([r,g,b])\n",
    "                    \n",
    "                    #and the conv3D will throw error if the inputs in a batch have different shapes\n",
    "                    batch_data[folder,idx,:,:,0] = (r - np.min(r)) / (np.max(r) - np.min(r)) #normalise and feed in the image\n",
    "                    batch_data[folder,idx,:,:,1] = (g - np.min(g)) / (np.max(g) - np.min(g)) #normalise and feed in the image\n",
    "                    batch_data[folder,idx,:,:,2] = (b - np.min(b)) / (np.max(b) - np.min(b)) #normalise and feed in the image in the image\n",
    "                batch_labels[folder, int(t[folder + (batch*batch_size)].strip().split(';')[2])] = 1\n",
    "            yield batch_data, batch_labels #you yield the batch_data and the batch_labels, remember what does yield do\n",
    "            "
   ]
  },
  {
   "cell_type": "markdown",
   "metadata": {},
   "source": [
    "Note here that a video is represented above in the generator as (number of images, height, width, number of channels). Take this into consideration while creating the model architecture."
   ]
  },
  {
   "cell_type": "code",
   "execution_count": 70,
   "metadata": {},
   "outputs": [
    {
     "name": "stdout",
     "output_type": "stream",
     "text": [
      "# training sequences = 663\n",
      "# validation sequences = 100\n",
      "# epochs = 50\n"
     ]
    }
   ],
   "source": [
    "curr_dt_time = datetime.datetime.now()\n",
    "train_path = './Project_data/train'\n",
    "val_path = './Project_data/val'\n",
    "num_train_sequences = len(train_doc)\n",
    "print('# training sequences =', num_train_sequences)\n",
    "num_val_sequences = len(val_doc)\n",
    "print('# validation sequences =', num_val_sequences)\n",
    "num_epochs =50  # choose the number of epochs\n",
    "print ('# epochs =', num_epochs)"
   ]
  },
  {
   "cell_type": "markdown",
   "metadata": {},
   "source": [
    "## Model 1 - Conv3D\n",
    "#### With MaxPooling3D and TimeDistributed "
   ]
  },
  {
   "cell_type": "code",
   "execution_count": 71,
   "metadata": {},
   "outputs": [],
   "source": [
    "from keras.models import Sequential, Model\n",
    "from keras.layers import Dense, GRU, Flatten, TimeDistributed, Flatten, BatchNormalization, Activation, Dropout\n",
    "from keras.layers.convolutional import Conv3D, MaxPooling3D\n",
    "from keras.callbacks import ModelCheckpoint, ReduceLROnPlateau\n",
    "from keras import optimizers\n",
    "from keras.regularizers import l2, l1\n",
    "\n",
    "#write your model here\n",
    "inputshape= (10,120,120,3)  \n",
    "model1= Sequential()\n",
    "\n",
    "model1.add(Conv3D(32, kernel_size=(4, 4, 4), input_shape=inputshape))\n",
    "model1.add(Activation('relu'))\n",
    "model1.add(BatchNormalization())\n",
    "model1.add(Conv3D(32, kernel_size=(4, 4, 4)))\n",
    "model1.add(Activation('relu'))\n",
    "model1.add(BatchNormalization())\n",
    "model1.add(MaxPooling3D(pool_size=(4, 4, 4)))\n",
    "model1.add(Dropout(0.4))\n",
    "\n",
    "model1.add(Conv3D(64, kernel_size=(4, 4, 4),padding='same'))\n",
    "model1.add(Activation('relu'))\n",
    "model1.add(BatchNormalization())\n",
    "model1.add(Conv3D(64, kernel_size=(4, 4, 4),padding='same'))\n",
    "model1.add(Activation('relu'))\n",
    "model1.add(BatchNormalization())\n",
    "model1.add(MaxPooling3D(pool_size=(4, 4, 4),padding='same'))\n",
    "model1.add(Dropout(0.4))\n",
    "\n",
    "model1.add(Flatten())\n",
    "model1.add(Dense(128))\n",
    "model1.add(Activation('relu'))\n",
    "model1.add(Dropout(0.4))\n",
    "\n",
    "model1.add(Dense(256))\n",
    "model1.add(Activation('relu'))\n",
    "\n",
    "model1.add(Dropout(0.5))\n",
    "model1.add(Dense(5))\n",
    "model1.add(Activation('softmax'))"
   ]
  },
  {
   "cell_type": "markdown",
   "metadata": {},
   "source": [
    "##### Optimizer - Model1"
   ]
  },
  {
   "cell_type": "code",
   "execution_count": 72,
   "metadata": {},
   "outputs": [],
   "source": [
    "optimiser = optimizers.Adam()"
   ]
  },
  {
   "cell_type": "markdown",
   "metadata": {},
   "source": [
    "#### Model 1 (Conv3D - Parameter Summary)"
   ]
  },
  {
   "cell_type": "code",
   "execution_count": 73,
   "metadata": {},
   "outputs": [
    {
     "name": "stdout",
     "output_type": "stream",
     "text": [
      "_________________________________________________________________\n",
      "Layer (type)                 Output Shape              Param #   \n",
      "=================================================================\n",
      "conv3d_13 (Conv3D)           (None, 7, 117, 117, 32)   6176      \n",
      "_________________________________________________________________\n",
      "activation_34 (Activation)   (None, 7, 117, 117, 32)   0         \n",
      "_________________________________________________________________\n",
      "batch_normalization_25 (Batc (None, 7, 117, 117, 32)   128       \n",
      "_________________________________________________________________\n",
      "conv3d_14 (Conv3D)           (None, 4, 114, 114, 32)   65568     \n",
      "_________________________________________________________________\n",
      "activation_35 (Activation)   (None, 4, 114, 114, 32)   0         \n",
      "_________________________________________________________________\n",
      "batch_normalization_26 (Batc (None, 4, 114, 114, 32)   128       \n",
      "_________________________________________________________________\n",
      "max_pooling3d_7 (MaxPooling3 (None, 1, 28, 28, 32)     0         \n",
      "_________________________________________________________________\n",
      "dropout_25 (Dropout)         (None, 1, 28, 28, 32)     0         \n",
      "_________________________________________________________________\n",
      "conv3d_15 (Conv3D)           (None, 1, 28, 28, 64)     131136    \n",
      "_________________________________________________________________\n",
      "activation_36 (Activation)   (None, 1, 28, 28, 64)     0         \n",
      "_________________________________________________________________\n",
      "batch_normalization_27 (Batc (None, 1, 28, 28, 64)     256       \n",
      "_________________________________________________________________\n",
      "conv3d_16 (Conv3D)           (None, 1, 28, 28, 64)     262208    \n",
      "_________________________________________________________________\n",
      "activation_37 (Activation)   (None, 1, 28, 28, 64)     0         \n",
      "_________________________________________________________________\n",
      "batch_normalization_28 (Batc (None, 1, 28, 28, 64)     256       \n",
      "_________________________________________________________________\n",
      "max_pooling3d_8 (MaxPooling3 (None, 1, 7, 7, 64)       0         \n",
      "_________________________________________________________________\n",
      "dropout_26 (Dropout)         (None, 1, 7, 7, 64)       0         \n",
      "_________________________________________________________________\n",
      "flatten_7 (Flatten)          (None, 3136)              0         \n",
      "_________________________________________________________________\n",
      "dense_16 (Dense)             (None, 128)               401536    \n",
      "_________________________________________________________________\n",
      "activation_38 (Activation)   (None, 128)               0         \n",
      "_________________________________________________________________\n",
      "dropout_27 (Dropout)         (None, 128)               0         \n",
      "_________________________________________________________________\n",
      "dense_17 (Dense)             (None, 256)               33024     \n",
      "_________________________________________________________________\n",
      "activation_39 (Activation)   (None, 256)               0         \n",
      "_________________________________________________________________\n",
      "dropout_28 (Dropout)         (None, 256)               0         \n",
      "_________________________________________________________________\n",
      "dense_18 (Dense)             (None, 5)                 1285      \n",
      "_________________________________________________________________\n",
      "activation_40 (Activation)   (None, 5)                 0         \n",
      "=================================================================\n",
      "Total params: 901,701\n",
      "Trainable params: 901,317\n",
      "Non-trainable params: 384\n",
      "_________________________________________________________________\n",
      "None\n"
     ]
    }
   ],
   "source": [
    "model1.compile(optimizer=optimiser, loss='categorical_crossentropy', metrics=['categorical_accuracy'])\n",
    "print (model1.summary())"
   ]
  },
  {
   "cell_type": "markdown",
   "metadata": {},
   "source": [
    "###### Create the `train_generator` and the `val_generator` which will be used in `.fit_generator` "
   ]
  },
  {
   "cell_type": "code",
   "execution_count": 74,
   "metadata": {},
   "outputs": [],
   "source": [
    "train_generator = generator(train_path, train_doc, batch_size)\n",
    "val_generator = generator(val_path, val_doc, batch_size)"
   ]
  },
  {
   "cell_type": "code",
   "execution_count": 75,
   "metadata": {},
   "outputs": [
    {
     "name": "stdout",
     "output_type": "stream",
     "text": [
      "learning_rate <keras.callbacks.ReduceLROnPlateau object at 0x7f29bdc895c0>\n"
     ]
    }
   ],
   "source": [
    "model_name = 'model_init' + '_' + str(curr_dt_time).replace(' ','').replace(':','_') + '/'\n",
    "    \n",
    "if not os.path.exists(model_name):\n",
    "    os.mkdir(model_name)\n",
    "        \n",
    "filepath = model_name + 'model-CONV3D-{epoch:05d}-{loss:.5f}-{categorical_accuracy:.5f}-{val_loss:.5f}-{val_categorical_accuracy:.5f}.h5'\n",
    "\n",
    "checkpoint = ModelCheckpoint(filepath, monitor='val_loss', verbose=1, save_best_only=False, save_weights_only=False, mode='auto', period=1)\n",
    "\n",
    "#We will reduce the LR if the Learning rate doesn't improve after 5 epochs\n",
    "LR = ReduceLROnPlateau(monitor='val_loss', factor=0.3, patience=3) # write the REducelronplateau code here\n",
    "print('learning_rate',LR)\n",
    "callbacks_list = [checkpoint, LR]"
   ]
  },
  {
   "cell_type": "code",
   "execution_count": 76,
   "metadata": {},
   "outputs": [],
   "source": [
    "if (num_train_sequences%batch_size) == 0:\n",
    "    steps_per_epoch = int(num_train_sequences/batch_size)\n",
    "else:\n",
    "    steps_per_epoch = (num_train_sequences//batch_size) + 1\n",
    "\n",
    "if (num_val_sequences%batch_size) == 0:\n",
    "    validation_steps = int(num_val_sequences/batch_size)\n",
    "else:\n",
    "    validation_steps = (num_val_sequences//batch_size) + 1"
   ]
  },
  {
   "cell_type": "markdown",
   "metadata": {},
   "source": [
    "#### Fitting Model 1 - Conv3D.\n",
    "This will start training Model1 and with the help of the checkpoints, models will be saved at the end of each epoch."
   ]
  },
  {
   "cell_type": "code",
   "execution_count": 77,
   "metadata": {},
   "outputs": [
    {
     "name": "stdout",
     "output_type": "stream",
     "text": [
      "Source path =  ./Project_data/val ; batch size = 16\n",
      "Source path =  ./Project_data/train ; batch size = 16\n",
      "Epoch 1/50\n",
      "42/42 [==============================] - 37s 875ms/step - loss: 2.3429 - categorical_accuracy: 0.2693 - val_loss: 1.9008 - val_categorical_accuracy: 0.2500\n",
      "\n",
      "Epoch 00001: saving model to model_init_2020-09-1403_39_12.025960/model-CONV3D-00001-2.34286-0.26935-1.90077-0.25000.h5\n",
      "Epoch 2/50\n",
      "42/42 [==============================] - 34s 799ms/step - loss: 1.5307 - categorical_accuracy: 0.3095 - val_loss: 1.3263 - val_categorical_accuracy: 0.4375\n",
      "\n",
      "Epoch 00002: saving model to model_init_2020-09-1403_39_12.025960/model-CONV3D-00002-1.53069-0.30952-1.32635-0.43750.h5\n",
      "Epoch 3/50\n",
      "42/42 [==============================] - 34s 799ms/step - loss: 1.4482 - categorical_accuracy: 0.3542 - val_loss: 1.5787 - val_categorical_accuracy: 0.2857\n",
      "\n",
      "Epoch 00003: saving model to model_init_2020-09-1403_39_12.025960/model-CONV3D-00003-1.44820-0.35417-1.57872-0.28571.h5\n",
      "Epoch 4/50\n",
      "42/42 [==============================] - 34s 798ms/step - loss: 1.3806 - categorical_accuracy: 0.4003 - val_loss: 3.8146 - val_categorical_accuracy: 0.1875\n",
      "\n",
      "Epoch 00004: saving model to model_init_2020-09-1403_39_12.025960/model-CONV3D-00004-1.38064-0.40030-3.81456-0.18750.h5\n",
      "Epoch 5/50\n",
      "42/42 [==============================] - 33s 796ms/step - loss: 1.3970 - categorical_accuracy: 0.4092 - val_loss: 1.1841 - val_categorical_accuracy: 0.5000\n",
      "\n",
      "Epoch 00005: saving model to model_init_2020-09-1403_39_12.025960/model-CONV3D-00005-1.39702-0.40923-1.18411-0.50000.h5\n",
      "Epoch 6/50\n",
      "42/42 [==============================] - 34s 799ms/step - loss: 1.3467 - categorical_accuracy: 0.4390 - val_loss: 1.2142 - val_categorical_accuracy: 0.5000\n",
      "\n",
      "Epoch 00006: saving model to model_init_2020-09-1403_39_12.025960/model-CONV3D-00006-1.34670-0.43899-1.21418-0.50000.h5\n",
      "Epoch 7/50\n",
      "42/42 [==============================] - 34s 798ms/step - loss: 1.2808 - categorical_accuracy: 0.4524 - val_loss: 1.1145 - val_categorical_accuracy: 0.4911\n",
      "\n",
      "Epoch 00007: saving model to model_init_2020-09-1403_39_12.025960/model-CONV3D-00007-1.28076-0.45238-1.11446-0.49107.h5\n",
      "Epoch 8/50\n",
      "42/42 [==============================] - 33s 796ms/step - loss: 1.2473 - categorical_accuracy: 0.5164 - val_loss: 1.0822 - val_categorical_accuracy: 0.6071\n",
      "\n",
      "Epoch 00008: saving model to model_init_2020-09-1403_39_12.025960/model-CONV3D-00008-1.24726-0.51637-1.08222-0.60714.h5\n",
      "Epoch 9/50\n",
      "42/42 [==============================] - 33s 796ms/step - loss: 1.1907 - categorical_accuracy: 0.5104 - val_loss: 1.0967 - val_categorical_accuracy: 0.5268\n",
      "\n",
      "Epoch 00009: saving model to model_init_2020-09-1403_39_12.025960/model-CONV3D-00009-1.19071-0.51042-1.09669-0.52679.h5\n",
      "Epoch 10/50\n",
      "42/42 [==============================] - 33s 796ms/step - loss: 1.0977 - categorical_accuracy: 0.5551 - val_loss: 0.8690 - val_categorical_accuracy: 0.6161\n",
      "\n",
      "Epoch 00010: saving model to model_init_2020-09-1403_39_12.025960/model-CONV3D-00010-1.09767-0.55506-0.86898-0.61607.h5\n",
      "Epoch 11/50\n",
      "42/42 [==============================] - 33s 795ms/step - loss: 1.1656 - categorical_accuracy: 0.5089 - val_loss: 0.9976 - val_categorical_accuracy: 0.5446\n",
      "\n",
      "Epoch 00011: saving model to model_init_2020-09-1403_39_12.025960/model-CONV3D-00011-1.16556-0.50893-0.99765-0.54464.h5\n",
      "Epoch 12/50\n",
      "42/42 [==============================] - 33s 789ms/step - loss: 1.0904 - categorical_accuracy: 0.5491 - val_loss: 1.0371 - val_categorical_accuracy: 0.5982\n",
      "\n",
      "Epoch 00012: saving model to model_init_2020-09-1403_39_12.025960/model-CONV3D-00012-1.09036-0.54911-1.03707-0.59821.h5\n",
      "Epoch 13/50\n",
      "42/42 [==============================] - 33s 790ms/step - loss: 1.0207 - categorical_accuracy: 0.5982 - val_loss: 0.9373 - val_categorical_accuracy: 0.6518\n",
      "\n",
      "Epoch 00013: saving model to model_init_2020-09-1403_39_12.025960/model-CONV3D-00013-1.02074-0.59821-0.93726-0.65179.h5\n",
      "Epoch 14/50\n",
      "42/42 [==============================] - 33s 792ms/step - loss: 0.9865 - categorical_accuracy: 0.5714 - val_loss: 0.8804 - val_categorical_accuracy: 0.6786\n",
      "\n",
      "Epoch 00014: saving model to model_init_2020-09-1403_39_12.025960/model-CONV3D-00014-0.98652-0.57143-0.88044-0.67857.h5\n",
      "Epoch 15/50\n",
      "42/42 [==============================] - 33s 790ms/step - loss: 0.8888 - categorical_accuracy: 0.6280 - val_loss: 0.9631 - val_categorical_accuracy: 0.6518\n",
      "\n",
      "Epoch 00015: saving model to model_init_2020-09-1403_39_12.025960/model-CONV3D-00015-0.88876-0.62798-0.96311-0.65179.h5\n",
      "Epoch 16/50\n",
      "42/42 [==============================] - 33s 790ms/step - loss: 0.8591 - categorical_accuracy: 0.6384 - val_loss: 0.8853 - val_categorical_accuracy: 0.6696\n",
      "\n",
      "Epoch 00016: saving model to model_init_2020-09-1403_39_12.025960/model-CONV3D-00016-0.85907-0.63839-0.88533-0.66964.h5\n",
      "Epoch 17/50\n",
      "42/42 [==============================] - 33s 790ms/step - loss: 0.8099 - categorical_accuracy: 0.6741 - val_loss: 0.8856 - val_categorical_accuracy: 0.6339\n",
      "\n",
      "Epoch 00017: saving model to model_init_2020-09-1403_39_12.025960/model-CONV3D-00017-0.80992-0.67411-0.88562-0.63393.h5\n",
      "Epoch 18/50\n",
      "42/42 [==============================] - 33s 790ms/step - loss: 0.8230 - categorical_accuracy: 0.6667 - val_loss: 0.7995 - val_categorical_accuracy: 0.6786\n",
      "\n",
      "Epoch 00018: saving model to model_init_2020-09-1403_39_12.025960/model-CONV3D-00018-0.82302-0.66667-0.79949-0.67857.h5\n",
      "Epoch 19/50\n",
      "42/42 [==============================] - 33s 790ms/step - loss: 0.7870 - categorical_accuracy: 0.6890 - val_loss: 0.8208 - val_categorical_accuracy: 0.6696\n",
      "\n",
      "Epoch 00019: saving model to model_init_2020-09-1403_39_12.025960/model-CONV3D-00019-0.78699-0.68899-0.82082-0.66964.h5\n",
      "Epoch 20/50\n",
      "42/42 [==============================] - 33s 790ms/step - loss: 0.7797 - categorical_accuracy: 0.6830 - val_loss: 0.8040 - val_categorical_accuracy: 0.7321\n",
      "\n",
      "Epoch 00020: saving model to model_init_2020-09-1403_39_12.025960/model-CONV3D-00020-0.77966-0.68304-0.80401-0.73214.h5\n",
      "Epoch 21/50\n",
      "42/42 [==============================] - 33s 790ms/step - loss: 0.7997 - categorical_accuracy: 0.6667 - val_loss: 0.7276 - val_categorical_accuracy: 0.7411\n",
      "\n",
      "Epoch 00021: saving model to model_init_2020-09-1403_39_12.025960/model-CONV3D-00021-0.79970-0.66667-0.72756-0.74107.h5\n",
      "Epoch 22/50\n",
      "42/42 [==============================] - 33s 790ms/step - loss: 0.7268 - categorical_accuracy: 0.7039 - val_loss: 0.7791 - val_categorical_accuracy: 0.6696\n",
      "\n",
      "Epoch 00022: saving model to model_init_2020-09-1403_39_12.025960/model-CONV3D-00022-0.72677-0.70387-0.77906-0.66964.h5\n",
      "Epoch 23/50\n",
      "42/42 [==============================] - 33s 790ms/step - loss: 0.7151 - categorical_accuracy: 0.7039 - val_loss: 0.8970 - val_categorical_accuracy: 0.6518\n",
      "\n",
      "Epoch 00023: saving model to model_init_2020-09-1403_39_12.025960/model-CONV3D-00023-0.71510-0.70387-0.89702-0.65179.h5\n",
      "Epoch 24/50\n",
      "42/42 [==============================] - 33s 790ms/step - loss: 0.7237 - categorical_accuracy: 0.7113 - val_loss: 0.7720 - val_categorical_accuracy: 0.6518\n",
      "\n",
      "Epoch 00024: saving model to model_init_2020-09-1403_39_12.025960/model-CONV3D-00024-0.72374-0.71131-0.77197-0.65179.h5\n",
      "Epoch 25/50\n",
      "42/42 [==============================] - 33s 790ms/step - loss: 0.6988 - categorical_accuracy: 0.7247 - val_loss: 0.7272 - val_categorical_accuracy: 0.6875\n",
      "\n",
      "Epoch 00025: saving model to model_init_2020-09-1403_39_12.025960/model-CONV3D-00025-0.69879-0.72470-0.72721-0.68750.h5\n",
      "Epoch 26/50\n",
      "42/42 [==============================] - 33s 790ms/step - loss: 0.7556 - categorical_accuracy: 0.7158 - val_loss: 0.7566 - val_categorical_accuracy: 0.6696\n",
      "\n",
      "Epoch 00026: saving model to model_init_2020-09-1403_39_12.025960/model-CONV3D-00026-0.75560-0.71577-0.75661-0.66964.h5\n",
      "Epoch 27/50\n",
      "42/42 [==============================] - 33s 790ms/step - loss: 0.7148 - categorical_accuracy: 0.6875 - val_loss: 0.6951 - val_categorical_accuracy: 0.7232\n",
      "\n",
      "Epoch 00027: saving model to model_init_2020-09-1403_39_12.025960/model-CONV3D-00027-0.71478-0.68750-0.69508-0.72321.h5\n",
      "Epoch 28/50\n",
      "42/42 [==============================] - 33s 790ms/step - loss: 0.7608 - categorical_accuracy: 0.7083 - val_loss: 0.7042 - val_categorical_accuracy: 0.6875\n",
      "\n",
      "Epoch 00028: saving model to model_init_2020-09-1403_39_12.025960/model-CONV3D-00028-0.76076-0.70833-0.70417-0.68750.h5\n",
      "Epoch 29/50\n"
     ]
    },
    {
     "name": "stdout",
     "output_type": "stream",
     "text": [
      "42/42 [==============================] - 33s 790ms/step - loss: 0.7159 - categorical_accuracy: 0.6994 - val_loss: 0.7186 - val_categorical_accuracy: 0.7054\n",
      "\n",
      "Epoch 00029: saving model to model_init_2020-09-1403_39_12.025960/model-CONV3D-00029-0.71590-0.69940-0.71864-0.70536.h5\n",
      "Epoch 30/50\n",
      "42/42 [==============================] - 33s 790ms/step - loss: 0.7404 - categorical_accuracy: 0.7009 - val_loss: 0.6982 - val_categorical_accuracy: 0.6964\n",
      "\n",
      "Epoch 00030: saving model to model_init_2020-09-1403_39_12.025960/model-CONV3D-00030-0.74042-0.70089-0.69822-0.69643.h5\n",
      "Epoch 31/50\n",
      "42/42 [==============================] - 33s 790ms/step - loss: 0.7405 - categorical_accuracy: 0.6994 - val_loss: 0.7302 - val_categorical_accuracy: 0.7143\n",
      "\n",
      "Epoch 00031: saving model to model_init_2020-09-1403_39_12.025960/model-CONV3D-00031-0.74054-0.69940-0.73015-0.71429.h5\n",
      "Epoch 32/50\n",
      "42/42 [==============================] - 33s 790ms/step - loss: 0.7065 - categorical_accuracy: 0.7202 - val_loss: 0.6797 - val_categorical_accuracy: 0.7143\n",
      "\n",
      "Epoch 00032: saving model to model_init_2020-09-1403_39_12.025960/model-CONV3D-00032-0.70649-0.72024-0.67966-0.71429.h5\n",
      "Epoch 33/50\n",
      "42/42 [==============================] - 33s 790ms/step - loss: 0.6794 - categorical_accuracy: 0.7381 - val_loss: 0.7121 - val_categorical_accuracy: 0.7321\n",
      "\n",
      "Epoch 00033: saving model to model_init_2020-09-1403_39_12.025960/model-CONV3D-00033-0.67939-0.73810-0.71214-0.73214.h5\n",
      "Epoch 34/50\n",
      "42/42 [==============================] - 33s 790ms/step - loss: 0.7123 - categorical_accuracy: 0.7173 - val_loss: 0.7153 - val_categorical_accuracy: 0.7232\n",
      "\n",
      "Epoch 00034: saving model to model_init_2020-09-1403_39_12.025960/model-CONV3D-00034-0.71229-0.71726-0.71529-0.72321.h5\n",
      "Epoch 35/50\n",
      "42/42 [==============================] - 33s 790ms/step - loss: 0.7046 - categorical_accuracy: 0.7307 - val_loss: 0.7306 - val_categorical_accuracy: 0.7054\n",
      "\n",
      "Epoch 00035: saving model to model_init_2020-09-1403_39_12.025960/model-CONV3D-00035-0.70461-0.73065-0.73060-0.70536.h5\n",
      "Epoch 36/50\n",
      "42/42 [==============================] - 33s 790ms/step - loss: 0.6803 - categorical_accuracy: 0.7307 - val_loss: 0.6815 - val_categorical_accuracy: 0.7321\n",
      "\n",
      "Epoch 00036: saving model to model_init_2020-09-1403_39_12.025960/model-CONV3D-00036-0.68031-0.73065-0.68148-0.73214.h5\n",
      "Epoch 37/50\n",
      "42/42 [==============================] - 33s 790ms/step - loss: 0.7061 - categorical_accuracy: 0.7158 - val_loss: 0.7420 - val_categorical_accuracy: 0.7054\n",
      "\n",
      "Epoch 00037: saving model to model_init_2020-09-1403_39_12.025960/model-CONV3D-00037-0.70612-0.71577-0.74205-0.70536.h5\n",
      "Epoch 38/50\n",
      "42/42 [==============================] - 33s 790ms/step - loss: 0.7103 - categorical_accuracy: 0.7024 - val_loss: 0.6865 - val_categorical_accuracy: 0.7411\n",
      "\n",
      "Epoch 00038: saving model to model_init_2020-09-1403_39_12.025960/model-CONV3D-00038-0.71027-0.70238-0.68648-0.74107.h5\n",
      "Epoch 39/50\n",
      "42/42 [==============================] - 33s 790ms/step - loss: 0.6717 - categorical_accuracy: 0.7366 - val_loss: 0.6657 - val_categorical_accuracy: 0.7321\n",
      "\n",
      "Epoch 00039: saving model to model_init_2020-09-1403_39_12.025960/model-CONV3D-00039-0.67169-0.73661-0.66569-0.73214.h5\n",
      "Epoch 40/50\n",
      "42/42 [==============================] - 33s 790ms/step - loss: 0.6953 - categorical_accuracy: 0.7217 - val_loss: 0.6953 - val_categorical_accuracy: 0.7143\n",
      "\n",
      "Epoch 00040: saving model to model_init_2020-09-1403_39_12.025960/model-CONV3D-00040-0.69528-0.72173-0.69528-0.71429.h5\n",
      "Epoch 41/50\n",
      "42/42 [==============================] - 33s 790ms/step - loss: 0.7063 - categorical_accuracy: 0.7262 - val_loss: 0.7081 - val_categorical_accuracy: 0.7321\n",
      "\n",
      "Epoch 00041: saving model to model_init_2020-09-1403_39_12.025960/model-CONV3D-00041-0.70629-0.72619-0.70814-0.73214.h5\n",
      "Epoch 42/50\n",
      "42/42 [==============================] - 33s 790ms/step - loss: 0.6720 - categorical_accuracy: 0.7396 - val_loss: 0.6785 - val_categorical_accuracy: 0.7411\n",
      "\n",
      "Epoch 00042: saving model to model_init_2020-09-1403_39_12.025960/model-CONV3D-00042-0.67197-0.73958-0.67851-0.74107.h5\n",
      "Epoch 43/50\n",
      "42/42 [==============================] - 33s 790ms/step - loss: 0.7014 - categorical_accuracy: 0.7307 - val_loss: 0.7163 - val_categorical_accuracy: 0.7232\n",
      "\n",
      "Epoch 00043: saving model to model_init_2020-09-1403_39_12.025960/model-CONV3D-00043-0.70144-0.73065-0.71627-0.72321.h5\n",
      "Epoch 44/50\n",
      "42/42 [==============================] - 33s 789ms/step - loss: 0.6885 - categorical_accuracy: 0.7262 - val_loss: 0.6880 - val_categorical_accuracy: 0.7232\n",
      "\n",
      "Epoch 00044: saving model to model_init_2020-09-1403_39_12.025960/model-CONV3D-00044-0.68846-0.72619-0.68795-0.72321.h5\n",
      "Epoch 45/50\n",
      "42/42 [==============================] - 33s 790ms/step - loss: 0.6598 - categorical_accuracy: 0.6994 - val_loss: 0.7014 - val_categorical_accuracy: 0.7232\n",
      "\n",
      "Epoch 00045: saving model to model_init_2020-09-1403_39_12.025960/model-CONV3D-00045-0.65978-0.69940-0.70137-0.72321.h5\n",
      "Epoch 46/50\n",
      "42/42 [==============================] - 33s 790ms/step - loss: 0.7001 - categorical_accuracy: 0.7262 - val_loss: 0.6898 - val_categorical_accuracy: 0.7411\n",
      "\n",
      "Epoch 00046: saving model to model_init_2020-09-1403_39_12.025960/model-CONV3D-00046-0.70011-0.72619-0.68977-0.74107.h5\n",
      "Epoch 47/50\n",
      "42/42 [==============================] - 33s 790ms/step - loss: 0.6800 - categorical_accuracy: 0.7054 - val_loss: 0.6971 - val_categorical_accuracy: 0.7232\n",
      "\n",
      "Epoch 00047: saving model to model_init_2020-09-1403_39_12.025960/model-CONV3D-00047-0.68002-0.70536-0.69707-0.72321.h5\n",
      "Epoch 48/50\n",
      "42/42 [==============================] - 33s 790ms/step - loss: 0.6856 - categorical_accuracy: 0.7336 - val_loss: 0.7101 - val_categorical_accuracy: 0.7232\n",
      "\n",
      "Epoch 00048: saving model to model_init_2020-09-1403_39_12.025960/model-CONV3D-00048-0.68560-0.73363-0.71006-0.72321.h5\n",
      "Epoch 49/50\n",
      "42/42 [==============================] - 33s 790ms/step - loss: 0.7270 - categorical_accuracy: 0.7128 - val_loss: 0.6742 - val_categorical_accuracy: 0.7589\n",
      "\n",
      "Epoch 00049: saving model to model_init_2020-09-1403_39_12.025960/model-CONV3D-00049-0.72696-0.71280-0.67419-0.75893.h5\n",
      "Epoch 50/50\n",
      "42/42 [==============================] - 33s 790ms/step - loss: 0.7347 - categorical_accuracy: 0.6771 - val_loss: 0.6663 - val_categorical_accuracy: 0.7500\n",
      "\n",
      "Epoch 00050: saving model to model_init_2020-09-1403_39_12.025960/model-CONV3D-00050-0.73472-0.67708-0.66631-0.75000.h5\n"
     ]
    }
   ],
   "source": [
    "history = model1.fit_generator(train_generator, steps_per_epoch=steps_per_epoch, epochs=num_epochs, verbose=1, \n",
    "                    callbacks=callbacks_list, validation_data=val_generator, \n",
    "                    validation_steps=validation_steps, class_weight=None, workers=1, initial_epoch=0)"
   ]
  },
  {
   "cell_type": "markdown",
   "metadata": {},
   "source": [
    "#### Plotting Test - Train Accuracy vs EPOCH and Test - Train Loss vs EPOCH for Model1 Conv3D"
   ]
  },
  {
   "cell_type": "code",
   "execution_count": 78,
   "metadata": {},
   "outputs": [
    {
     "name": "stdout",
     "output_type": "stream",
     "text": [
      "dict_keys(['val_loss', 'val_categorical_accuracy', 'loss', 'categorical_accuracy', 'lr'])\n"
     ]
    },
    {
     "data": {
      "image/png": "[encoded data removed]",
      "text/plain": [
       "<Figure size 432x288 with 1 Axes>"
      ]
     },
     "metadata": {},
     "output_type": "display_data"
    },
    {
     "data": {
      "image/png": "[encoded data removed]",
      "text/plain": [
       "<Figure size 432x288 with 1 Axes>"
      ]
     },
     "metadata": {},
     "output_type": "display_data"
    }
   ],
   "source": [
    "import matplotlib.pyplot as plt\n",
    "%matplotlib inline\n",
    "\n",
    "# list all data in history\n",
    "print(history.history.keys())\n",
    "# summarize history for accuracy\n",
    "plt.plot(history.history['categorical_accuracy'])\n",
    "plt.plot(history.history['val_categorical_accuracy'])\n",
    "plt.title('model accuracy')\n",
    "plt.ylabel('accuracy')\n",
    "plt.xlabel('epoch')\n",
    "plt.legend(['train', 'test'], loc='upper left')\n",
    "plt.show()\n",
    "# summarize history for loss\n",
    "plt.plot(history.history['loss'])\n",
    "plt.plot(history.history['val_loss'])\n",
    "plt.title('model loss')\n",
    "plt.ylabel('loss')\n",
    "plt.xlabel('epoch')\n",
    "plt.legend(['train', 'test'], loc='upper left')\n",
    "plt.show()"
   ]
  },
  {
   "cell_type": "markdown",
   "metadata": {},
   "source": [
    "## Model 2 - RNN + GRU\n",
    "#### With MaxPooling2D and TimeDistributed. Using Transfer Learning VGG16"
   ]
  },
  {
   "cell_type": "code",
   "execution_count": 79,
   "metadata": {},
   "outputs": [],
   "source": [
    "from keras.models import Sequential, Model\n",
    "from keras.layers import Dense, GRU, Flatten, TimeDistributed, Flatten, BatchNormalization, Activation, Dropout\n",
    "from keras.layers.convolutional import Conv2D, MaxPooling2D\n",
    "from keras.callbacks import ModelCheckpoint, ReduceLROnPlateau\n",
    "from keras import optimizers\n",
    "from keras.regularizers import l2, l1\n",
    "from numpy import array\n",
    "from keras.layers import LSTM,GRU\n",
    "from keras.applications.vgg16 import VGG16\n",
    "\n",
    "\n",
    "# create a VGG16 \"model\", we will use image with shape (120, 120, 3)\n",
    "vgg = VGG16(\n",
    "    include_top=False,\n",
    "    weights='imagenet',\n",
    "    input_shape=(120, 120, 3)\n",
    ")\n",
    "# For All Non-Trainable Layers and using only Weights.\n",
    "\n",
    "for layer in vgg.layers:\n",
    "    layer.trainable = False\n",
    "    \n",
    "     \n",
    "# create a Sequential model\n",
    "model2 = Sequential()\n",
    "# adding vgg model for 10 input images (keeping the right shape)\n",
    "model2.add(TimeDistributed(vgg, input_shape=(10, 120, 120, 3)))\n",
    "\n",
    "\n",
    "model2.add(TimeDistributed(Conv2D(64, kernel_size=(4, 4),padding='same')))\n",
    "model2.add(Activation('relu'))\n",
    "model2.add(BatchNormalization())\n",
    "model2.add(TimeDistributed(Conv2D(64, kernel_size=(4, 4),padding='same')))\n",
    "model2.add(Activation('relu'))\n",
    "model2.add(BatchNormalization())\n",
    "model2.add(TimeDistributed(MaxPooling2D(pool_size=(4, 4),padding='same')))\n",
    "model2.add(Dropout(0.5))\n",
    "\n",
    "model2.add(TimeDistributed(Conv2D(64, kernel_size=(4, 4),padding='same')))\n",
    "model2.add(Activation('relu'))\n",
    "model2.add(BatchNormalization())\n",
    "model2.add(TimeDistributed(Conv2D(64, kernel_size=(4, 4),padding='same')))\n",
    "model2.add(Activation('relu'))\n",
    "model2.add(BatchNormalization())\n",
    "model2.add(TimeDistributed(MaxPooling2D(pool_size=(4, 4),padding='same')))\n",
    "model2.add(Dropout(0.5))\n",
    "\n",
    "\n",
    "# now, flatten on each output to send 10 outputs with one dimension to LSTM\n",
    "model2.add(TimeDistributed(Flatten()))\n",
    "model2.add(GRU(128, activation='relu', return_sequences=False))\n",
    "model2.add(Dropout(.5))\n",
    "# finalize with standard Dense, Dropout...\n",
    "\n",
    "model2.add(Dense(256, activation='relu'))\n",
    "model2.add(Dropout(.5))\n",
    "model2.add(Dense(5, activation='softmax')) # 5 classes for 5 different hand gestures\n"
   ]
  },
  {
   "cell_type": "markdown",
   "metadata": {},
   "source": [
    "##### Optimizer - Model2"
   ]
  },
  {
   "cell_type": "code",
   "execution_count": 80,
   "metadata": {},
   "outputs": [],
   "source": [
    "optimiser = optimizers.Adam(lr=0.005)"
   ]
  },
  {
   "cell_type": "markdown",
   "metadata": {},
   "source": [
    "#### Model 2 (Conv2D RNN + GRU - Parameter Summary)"
   ]
  },
  {
   "cell_type": "code",
   "execution_count": 81,
   "metadata": {},
   "outputs": [
    {
     "name": "stdout",
     "output_type": "stream",
     "text": [
      "_________________________________________________________________\n",
      "Layer (type)                 Output Shape              Param #   \n",
      "=================================================================\n",
      "time_distributed_25 (TimeDis (None, 10, 3, 3, 512)     14714688  \n",
      "_________________________________________________________________\n",
      "time_distributed_26 (TimeDis (None, 10, 3, 3, 64)      524352    \n",
      "_________________________________________________________________\n",
      "activation_41 (Activation)   (None, 10, 3, 3, 64)      0         \n",
      "_________________________________________________________________\n",
      "batch_normalization_29 (Batc (None, 10, 3, 3, 64)      256       \n",
      "_________________________________________________________________\n",
      "time_distributed_27 (TimeDis (None, 10, 3, 3, 64)      65600     \n",
      "_________________________________________________________________\n",
      "activation_42 (Activation)   (None, 10, 3, 3, 64)      0         \n",
      "_________________________________________________________________\n",
      "batch_normalization_30 (Batc (None, 10, 3, 3, 64)      256       \n",
      "_________________________________________________________________\n",
      "time_distributed_28 (TimeDis (None, 10, 1, 1, 64)      0         \n",
      "_________________________________________________________________\n",
      "dropout_29 (Dropout)         (None, 10, 1, 1, 64)      0         \n",
      "_________________________________________________________________\n",
      "time_distributed_29 (TimeDis (None, 10, 1, 1, 64)      65600     \n",
      "_________________________________________________________________\n",
      "activation_43 (Activation)   (None, 10, 1, 1, 64)      0         \n",
      "_________________________________________________________________\n",
      "batch_normalization_31 (Batc (None, 10, 1, 1, 64)      256       \n",
      "_________________________________________________________________\n",
      "time_distributed_30 (TimeDis (None, 10, 1, 1, 64)      65600     \n",
      "_________________________________________________________________\n",
      "activation_44 (Activation)   (None, 10, 1, 1, 64)      0         \n",
      "_________________________________________________________________\n",
      "batch_normalization_32 (Batc (None, 10, 1, 1, 64)      256       \n",
      "_________________________________________________________________\n",
      "time_distributed_31 (TimeDis (None, 10, 1, 1, 64)      0         \n",
      "_________________________________________________________________\n",
      "dropout_30 (Dropout)         (None, 10, 1, 1, 64)      0         \n",
      "_________________________________________________________________\n",
      "time_distributed_32 (TimeDis (None, 10, 64)            0         \n",
      "_________________________________________________________________\n",
      "gru_4 (GRU)                  (None, 128)               74112     \n",
      "_________________________________________________________________\n",
      "dropout_31 (Dropout)         (None, 128)               0         \n",
      "_________________________________________________________________\n",
      "dense_19 (Dense)             (None, 256)               33024     \n",
      "_________________________________________________________________\n",
      "dropout_32 (Dropout)         (None, 256)               0         \n",
      "_________________________________________________________________\n",
      "dense_20 (Dense)             (None, 5)                 1285      \n",
      "=================================================================\n",
      "Total params: 15,545,285\n",
      "Trainable params: 830,085\n",
      "Non-trainable params: 14,715,200\n",
      "_________________________________________________________________\n",
      "None\n"
     ]
    }
   ],
   "source": [
    "model2.compile(optimizer=optimiser, loss='categorical_crossentropy', metrics=['categorical_accuracy'])\n",
    "print (model2.summary())"
   ]
  },
  {
   "cell_type": "markdown",
   "metadata": {},
   "source": [
    "###### Create the `train_generator` and the `val_generator` which will be used in `.fit_generator` "
   ]
  },
  {
   "cell_type": "code",
   "execution_count": 82,
   "metadata": {},
   "outputs": [],
   "source": [
    "train_generator = generator(train_path, train_doc, batch_size)\n",
    "val_generator = generator(val_path, val_doc, batch_size)"
   ]
  },
  {
   "cell_type": "code",
   "execution_count": 83,
   "metadata": {},
   "outputs": [
    {
     "name": "stdout",
     "output_type": "stream",
     "text": [
      "learning_rate <keras.callbacks.ReduceLROnPlateau object at 0x7f29bbe98710>\n"
     ]
    }
   ],
   "source": [
    "model_name = 'model_init' + '_' + str(curr_dt_time).replace(' ','').replace(':','_') + '/'\n",
    "    \n",
    "if not os.path.exists(model_name):\n",
    "    os.mkdir(model_name)\n",
    "        \n",
    "filepath = model_name + 'model-Conv2D-RNN-GRU-{epoch:05d}-{loss:.5f}-{categorical_accuracy:.5f}-{val_loss:.5f}-{val_categorical_accuracy:.5f}.h5'\n",
    "\n",
    "checkpoint = ModelCheckpoint(filepath, monitor='val_loss', verbose=1, save_best_only=False, save_weights_only=False, mode='auto', period=1)\n",
    "\n",
    "#We will reduce the LR if the Learning rate doesn't improve after 5 epochs\n",
    "LR = ReduceLROnPlateau(monitor='val_loss', factor=0.1, patience=3) # write the REducelronplateau code here\n",
    "print('learning_rate',LR)\n",
    "callbacks_list = [checkpoint, LR]"
   ]
  },
  {
   "cell_type": "markdown",
   "metadata": {},
   "source": [
    "The `steps_per_epoch` and `validation_steps` are used by `fit_generator` to decide the number of next() calls it need to make."
   ]
  },
  {
   "cell_type": "code",
   "execution_count": 84,
   "metadata": {},
   "outputs": [],
   "source": [
    "if (num_train_sequences%batch_size) == 0:\n",
    "    steps_per_epoch = int(num_train_sequences/batch_size)\n",
    "else:\n",
    "    steps_per_epoch = (num_train_sequences//batch_size) + 1\n",
    "\n",
    "if (num_val_sequences%batch_size) == 0:\n",
    "    validation_steps = int(num_val_sequences/batch_size)\n",
    "else:\n",
    "    validation_steps = (num_val_sequences//batch_size) + 1"
   ]
  },
  {
   "cell_type": "markdown",
   "metadata": {},
   "source": [
    "#### Fitting Model 2 - ConvD with RNN + GRU.\n",
    "This will start training Model2 and with the help of the checkpoints, models will be saved at the end of each epoch."
   ]
  },
  {
   "cell_type": "code",
   "execution_count": null,
   "metadata": {},
   "outputs": [
    {
     "name": "stdout",
     "output_type": "stream",
     "text": [
      "Source path =  ./Project_data/val ; batch size = 16\n",
      "Source path =  ./Project_data/train ; batch size = 16\n",
      "Epoch 1/50\n",
      "42/42 [==============================] - 27s 651ms/step - loss: 1.7043 - categorical_accuracy: 0.2336 - val_loss: 2.0248 - val_categorical_accuracy: 0.1607\n",
      "\n",
      "Epoch 00001: saving model to model_init_2020-09-1403_39_12.025960/model-Conv2D-RNN-GRU-00001-1.70431-0.23363-2.02476-0.16071.h5\n",
      "Epoch 2/50\n",
      "42/42 [==============================] - 22s 530ms/step - loss: 1.4935 - categorical_accuracy: 0.3363 - val_loss: 1.3303 - val_categorical_accuracy: 0.3304\n",
      "\n",
      "Epoch 00002: saving model to model_init_2020-09-1403_39_12.025960/model-Conv2D-RNN-GRU-00002-1.49345-0.33631-1.33028-0.33036.h5\n",
      "Epoch 3/50\n",
      "42/42 [==============================] - 22s 530ms/step - loss: 1.3535 - categorical_accuracy: 0.4122 - val_loss: 1.6601 - val_categorical_accuracy: 0.3661\n",
      "\n",
      "Epoch 00003: saving model to model_init_2020-09-1403_39_12.025960/model-Conv2D-RNN-GRU-00003-1.35351-0.41220-1.66012-0.36607.h5\n",
      "Epoch 4/50\n",
      "42/42 [==============================] - 22s 530ms/step - loss: 1.1607 - categorical_accuracy: 0.4851 - val_loss: 1.5682 - val_categorical_accuracy: 0.4821\n",
      "\n",
      "Epoch 00004: saving model to model_init_2020-09-1403_39_12.025960/model-Conv2D-RNN-GRU-00004-1.16066-0.48512-1.56817-0.48214.h5\n",
      "Epoch 5/50\n",
      "42/42 [==============================] - 22s 528ms/step - loss: 1.0886 - categorical_accuracy: 0.5729 - val_loss: 1.8576 - val_categorical_accuracy: 0.4732\n",
      "\n",
      "Epoch 00005: saving model to model_init_2020-09-1403_39_12.025960/model-Conv2D-RNN-GRU-00005-1.08860-0.57292-1.85757-0.47321.h5\n",
      "Epoch 6/50\n",
      "42/42 [==============================] - 22s 530ms/step - loss: 0.9014 - categorical_accuracy: 0.6458 - val_loss: 0.9726 - val_categorical_accuracy: 0.6607\n",
      "\n",
      "Epoch 00006: saving model to model_init_2020-09-1403_39_12.025960/model-Conv2D-RNN-GRU-00006-0.90143-0.64583-0.97259-0.66071.h5\n",
      "Epoch 7/50\n",
      "42/42 [==============================] - 22s 530ms/step - loss: 0.7199 - categorical_accuracy: 0.7009 - val_loss: 0.9975 - val_categorical_accuracy: 0.6696\n",
      "\n",
      "Epoch 00007: saving model to model_init_2020-09-1403_39_12.025960/model-Conv2D-RNN-GRU-00007-0.71987-0.70089-0.99747-0.66964.h5\n",
      "Epoch 8/50\n",
      "42/42 [==============================] - 22s 529ms/step - loss: 0.6419 - categorical_accuracy: 0.7366 - val_loss: 1.4012 - val_categorical_accuracy: 0.5179\n",
      "\n",
      "Epoch 00008: saving model to model_init_2020-09-1403_39_12.025960/model-Conv2D-RNN-GRU-00008-0.64192-0.73661-1.40121-0.51786.h5\n",
      "Epoch 9/50\n",
      "42/42 [==============================] - 22s 529ms/step - loss: 0.5750 - categorical_accuracy: 0.7723 - val_loss: 1.9597 - val_categorical_accuracy: 0.4911\n",
      "\n",
      "Epoch 00009: saving model to model_init_2020-09-1403_39_12.025960/model-Conv2D-RNN-GRU-00009-0.57501-0.77232-1.95966-0.49107.h5\n",
      "Epoch 10/50\n",
      "42/42 [==============================] - 22s 529ms/step - loss: 0.5187 - categorical_accuracy: 0.7842 - val_loss: 1.4200 - val_categorical_accuracy: 0.5893\n",
      "\n",
      "Epoch 00010: saving model to model_init_2020-09-1403_39_12.025960/model-Conv2D-RNN-GRU-00010-0.51867-0.78423-1.41995-0.58929.h5\n",
      "Epoch 11/50\n",
      "42/42 [==============================] - 22s 528ms/step - loss: 0.5245 - categorical_accuracy: 0.7693 - val_loss: 1.3706 - val_categorical_accuracy: 0.5625\n",
      "\n",
      "Epoch 00011: saving model to model_init_2020-09-1403_39_12.025960/model-Conv2D-RNN-GRU-00011-0.52447-0.76935-1.37059-0.56250.h5\n",
      "Epoch 12/50\n",
      "42/42 [==============================] - 22s 530ms/step - loss: 0.5026 - categorical_accuracy: 0.8095 - val_loss: 1.1298 - val_categorical_accuracy: 0.6250\n",
      "\n",
      "Epoch 00012: saving model to model_init_2020-09-1403_39_12.025960/model-Conv2D-RNN-GRU-00012-0.50263-0.80952-1.12980-0.62500.h5\n",
      "Epoch 13/50\n",
      "42/42 [==============================] - 22s 529ms/step - loss: 0.4983 - categorical_accuracy: 0.7917 - val_loss: 1.0060 - val_categorical_accuracy: 0.6250\n",
      "\n",
      "Epoch 00013: saving model to model_init_2020-09-1403_39_12.025960/model-Conv2D-RNN-GRU-00013-0.49832-0.79167-1.00596-0.62500.h5\n",
      "Epoch 14/50\n",
      "42/42 [==============================] - 22s 528ms/step - loss: 0.4920 - categorical_accuracy: 0.8080 - val_loss: 0.9176 - val_categorical_accuracy: 0.6696\n",
      "\n",
      "Epoch 00014: saving model to model_init_2020-09-1403_39_12.025960/model-Conv2D-RNN-GRU-00014-0.49199-0.80804-0.91757-0.66964.h5\n",
      "Epoch 15/50\n",
      "42/42 [==============================] - 22s 530ms/step - loss: 0.5166 - categorical_accuracy: 0.7798 - val_loss: 0.9688 - val_categorical_accuracy: 0.6518\n",
      "\n",
      "Epoch 00015: saving model to model_init_2020-09-1403_39_12.025960/model-Conv2D-RNN-GRU-00015-0.51664-0.77976-0.96879-0.65179.h5\n",
      "Epoch 16/50\n",
      "42/42 [==============================] - 22s 530ms/step - loss: 0.5432 - categorical_accuracy: 0.7708 - val_loss: 0.9464 - val_categorical_accuracy: 0.6607\n",
      "\n",
      "Epoch 00016: saving model to model_init_2020-09-1403_39_12.025960/model-Conv2D-RNN-GRU-00016-0.54320-0.77083-0.94640-0.66071.h5\n",
      "Epoch 17/50\n",
      "42/42 [==============================] - 22s 529ms/step - loss: 0.5161 - categorical_accuracy: 0.7872 - val_loss: 0.9341 - val_categorical_accuracy: 0.6518\n",
      "\n",
      "Epoch 00017: saving model to model_init_2020-09-1403_39_12.025960/model-Conv2D-RNN-GRU-00017-0.51610-0.78720-0.93406-0.65179.h5\n",
      "Epoch 18/50\n",
      "42/42 [==============================] - 22s 529ms/step - loss: 0.4971 - categorical_accuracy: 0.7976 - val_loss: 0.9561 - val_categorical_accuracy: 0.6429\n",
      "\n",
      "Epoch 00018: saving model to model_init_2020-09-1403_39_12.025960/model-Conv2D-RNN-GRU-00018-0.49714-0.79762-0.95608-0.64286.h5\n",
      "Epoch 19/50\n",
      "42/42 [==============================] - 22s 530ms/step - loss: 0.4986 - categorical_accuracy: 0.7991 - val_loss: 1.0589 - val_categorical_accuracy: 0.5982\n",
      "\n",
      "Epoch 00019: saving model to model_init_2020-09-1403_39_12.025960/model-Conv2D-RNN-GRU-00019-0.49857-0.79911-1.05894-0.59821.h5\n",
      "Epoch 20/50\n",
      "42/42 [==============================] - 22s 530ms/step - loss: 0.5064 - categorical_accuracy: 0.7887 - val_loss: 1.0373 - val_categorical_accuracy: 0.6071\n",
      "\n",
      "Epoch 00020: saving model to model_init_2020-09-1403_39_12.025960/model-Conv2D-RNN-GRU-00020-0.50643-0.78869-1.03725-0.60714.h5\n",
      "Epoch 21/50\n",
      "42/42 [==============================] - 22s 530ms/step - loss: 0.4737 - categorical_accuracy: 0.7976 - val_loss: 0.9918 - val_categorical_accuracy: 0.6250\n",
      "\n",
      "Epoch 00021: saving model to model_init_2020-09-1403_39_12.025960/model-Conv2D-RNN-GRU-00021-0.47365-0.79762-0.99176-0.62500.h5\n",
      "Epoch 22/50\n",
      "42/42 [==============================] - 22s 530ms/step - loss: 0.5078 - categorical_accuracy: 0.7798 - val_loss: 0.9716 - val_categorical_accuracy: 0.6518\n",
      "\n",
      "Epoch 00022: saving model to model_init_2020-09-1403_39_12.025960/model-Conv2D-RNN-GRU-00022-0.50780-0.77976-0.97158-0.65179.h5\n",
      "Epoch 23/50\n",
      "42/42 [==============================] - 22s 529ms/step - loss: 0.5046 - categorical_accuracy: 0.7798 - val_loss: 0.9257 - val_categorical_accuracy: 0.6696\n",
      "\n",
      "Epoch 00023: saving model to model_init_2020-09-1403_39_12.025960/model-Conv2D-RNN-GRU-00023-0.50462-0.77976-0.92574-0.66964.h5\n",
      "Epoch 24/50\n",
      "42/42 [==============================] - 22s 527ms/step - loss: 0.5560 - categorical_accuracy: 0.7634 - val_loss: 1.0210 - val_categorical_accuracy: 0.5982\n",
      "\n",
      "Epoch 00024: saving model to model_init_2020-09-1403_39_12.025960/model-Conv2D-RNN-GRU-00024-0.55596-0.76339-1.02105-0.59821.h5\n",
      "Epoch 25/50\n",
      "42/42 [==============================] - 22s 529ms/step - loss: 0.4874 - categorical_accuracy: 0.8021 - val_loss: 1.0205 - val_categorical_accuracy: 0.6339\n",
      "\n",
      "Epoch 00025: saving model to model_init_2020-09-1403_39_12.025960/model-Conv2D-RNN-GRU-00025-0.48744-0.80208-1.02053-0.63393.h5\n",
      "Epoch 26/50\n",
      "42/42 [==============================] - 22s 530ms/step - loss: 0.5073 - categorical_accuracy: 0.7946 - val_loss: 0.9877 - val_categorical_accuracy: 0.6339\n",
      "\n",
      "Epoch 00026: saving model to model_init_2020-09-1403_39_12.025960/model-Conv2D-RNN-GRU-00026-0.50730-0.79464-0.98773-0.63393.h5\n",
      "Epoch 27/50\n",
      "42/42 [==============================] - 22s 529ms/step - loss: 0.5426 - categorical_accuracy: 0.7693 - val_loss: 0.9932 - val_categorical_accuracy: 0.6071\n",
      "\n",
      "Epoch 00027: saving model to model_init_2020-09-1403_39_12.025960/model-Conv2D-RNN-GRU-00027-0.54263-0.76935-0.99316-0.60714.h5\n",
      "Epoch 28/50\n",
      "29/42 [===================>..........] - ETA: 5s - loss: 0.4949 - categorical_accuracy: 0.7802"
     ]
    }
   ],
   "source": [
    "history = model2.fit_generator(train_generator, steps_per_epoch=steps_per_epoch, epochs=num_epochs, verbose=1, \n",
    "                    callbacks=callbacks_list, validation_data=val_generator, \n",
    "                    validation_steps=validation_steps, class_weight=None, workers=1, initial_epoch=0)"
   ]
  },
  {
   "cell_type": "markdown",
   "metadata": {},
   "source": [
    "#### Plotting Test - Train Accuracy vs EPOCH and Test - Train Loss vs EPOCH for Model 2 Conv2D RNN+GRU"
   ]
  },
  {
   "cell_type": "code",
   "execution_count": null,
   "metadata": {},
   "outputs": [],
   "source": [
    "import matplotlib.pyplot as plt\n",
    "%matplotlib inline\n",
    "\n",
    "# list all data in history\n",
    "print(history.history.keys())\n",
    "# summarize history for accuracy\n",
    "plt.plot(history.history['categorical_accuracy'])\n",
    "plt.plot(history.history['val_categorical_accuracy'])\n",
    "plt.title('model accuracy')\n",
    "plt.ylabel('accuracy')\n",
    "plt.xlabel('epoch')\n",
    "plt.legend(['train', 'test'], loc='upper left')\n",
    "plt.show()\n",
    "# summarize history for loss\n",
    "plt.plot(history.history['loss'])\n",
    "plt.plot(history.history['val_loss'])\n",
    "plt.title('model loss')\n",
    "plt.ylabel('loss')\n",
    "plt.xlabel('epoch')\n",
    "plt.legend(['train', 'test'], loc='upper left')\n",
    "plt.show()\n"
   ]
  }
 ],
 "metadata": {
  "kernelspec": {
   "display_name": "Python 3",
   "language": "python",
   "name": "python3"
  },
  "language_info": {
   "codemirror_mode": {
    "name": "ipython",
    "version": 3
   },
   "file_extension": ".py",
   "mimetype": "text/x-python",
   "name": "python",
   "nbconvert_exporter": "python",
   "pygments_lexer": "ipython3",
   "version": "3.7.4"
  }
 },
 "nbformat": 4,
 "nbformat_minor": 2
}
